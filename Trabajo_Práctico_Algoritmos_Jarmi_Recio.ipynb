{
  "cells": [
    {
      "cell_type": "markdown",
      "metadata": {
        "id": "view-in-github",
        "colab_type": "text"
      },
      "source": [
        "<a href=\"https://colab.research.google.com/github/jarmi95/03MAIR-Algoritmos-Optimizacion/blob/main/Trabajo_Pr%C3%A1ctico_Algoritmos_Jarmi_Recio.ipynb\" target=\"_parent\"><img src=\"https://colab.research.google.com/assets/colab-badge.svg\" alt=\"Open In Colab\"/></a>"
      ]
    },
    {
      "cell_type": "markdown",
      "metadata": {
        "id": "hVbXYX-RfPWh"
      },
      "source": [
        "# Algoritmos de optimización - Trabajo Práctico<br>\n",
        "Nombre y Apellidos: Jarmi Recio Martínez  <br>\n",
        "Url: https://github.com/jarmi95/03MAIR-Algoritmos-Optimizacion/blob/main/Trabajo_Práctico_Algoritmos_Jarmi_Recio.ipynb<br>\n",
        "Google Colab: https://colab.research.google.com/drive/1q25a6YnfhPD4g2DXH5XkukFDtv3Ic-xN?usp=sharing <br>\n",
        "Problema:\n",
        ">1. Sesiones de doblaje <br>\n",
        ">2. <b>Organizar los horarios de partidos de La Liga</b><br>\n",
        ">3. Configuración de Tribunales\n",
        "\n",
        "Descripción del problema:\n",
        "\n",
        "Desde la La Liga de fútbol profesional se pretende organizar los horarios de los partidos de liga de cada jornada. Se conocen algunos datos que nos deben llevar a diseñar un algoritmo que realice la asignación de los partidos a los horarios de forma que maximice la audiencia.\n",
        "\n",
        "Los horarios disponibles se conocen a priori y son los siguientes:\n",
        "\n",
        "- Viernes: 20\n",
        "- Sábado: 12, 16, 18, 20\n",
        "- Domingo: 12, 16, 18, 20\n",
        "- Lunes: 20\n",
        "\n",
        "En primer lugar se clasifican los equipos en tres categorías según el numero de seguidores (que tiene relación directa con la audiencia). Hay 3 equipos en la categoría A, 11 equipos de categoría B y 6 equipos de categoría C.\n",
        "\n",
        "Se conoce estadísticamente la audiencia que genera cada partido según los equipos que se enfrentan y en horario de sábado a las 20h (el mejor en todos los casos)\n",
        "\n",
        "|              | Categoría A  | Categoría B  | Categoría C |\n",
        "|--------------|--------------|--------------|--------------|\n",
        "| Categoría A  | 2 Millones   | 1,3 Millones | 1 Millón     |\n",
        "| Categoría B  |              | 0,9 Millones | 0,75 Millones|\n",
        "| Categoría C  |              |              | 0,47 Millones|\n",
        "\n",
        "\n",
        "Si el horario del partido no se realiza a las 20 horas del sábado se sabe que se reduce según los coeficientes de la siguiente tabla.\n",
        "\n",
        "Debemos asignar obligatoriamente siempre un partido el viernes y un partido el lunes.\n",
        "\n",
        "|          | Viernes | Sábado  | Domingo | Lunes   |\n",
        "|----------|---------|---------|---------|---------|\n",
        "| 12h      |    -    |   0,55  |   0,45  |    -    |\n",
        "| 16h      |    -    |   0,7   |   0,75  |    -    |\n",
        "| 18h      |    -    |   0,8   |   0,85  |    -    |\n",
        "| 20h      |   0,4   |    1    |    1    |   0,4   |\n",
        "\n",
        "\n",
        "Es posible la coincidencia de horarios pero en este\n",
        "caso la audiencia de cada partido se verá afectada y\n",
        "se estima que se reduce en porcentaje según la\n",
        "siguiente tabla dependiendo del número de\n",
        "coincidencias:\n",
        "\n",
        "| Coincidencias | -% |\n",
        "|---------------|----|\n",
        "| 0             | 0%    |\n",
        "| 1             | 25%   |\n",
        "| 2             | 45%   |\n",
        "| 3             | 60%   |\n",
        "| 4             | 70%   |\n",
        "| 5             | 75%   |\n",
        "| 6             | 78%   |\n",
        "| 7             | 80%   |\n",
        "| 8             | 80%   |\n",
        "\n",
        "\n",
        "\n",
        "                                        "
      ]
    },
    {
      "cell_type": "markdown",
      "metadata": {
        "id": "Sbo9IqQtpaHZ"
      },
      "source": [
        "#Modelo\n"
      ]
    },
    {
      "cell_type": "markdown",
      "metadata": {
        "id": "9WvUYPtB7gIc"
      },
      "source": [
        "## ¿Cómo represento el espacio de soluciones?\n"
      ]
    },
    {
      "cell_type": "markdown",
      "metadata": {
        "id": "67p_vszBposu"
      },
      "source": [
        "Se entiende por espacio de soluciones el conjunto de todas las posibles soluciones válidas para un problema dado.\n",
        "\n",
        "En este caso, para la combinación de enfrentamientos entre equipos de La Liga de Fútbol dada, se consideran solución todas las combinaciones de horarios que siguen las restricciones enunciadas.\n",
        "\n",
        "Dentro del espacio de soluciones se encuentran las dos principales variables de decisión: el equipo con su correspondiente categoría y el horario de enfrentamiento.\n",
        "\n",
        "- Equipos: A1, A2, A3, B1, B2, B3, B4, B5, B6, B7, B8, B9, B10, B11, C1, C2, C3, C4, C5 y C6.\n",
        "- Horarios: V20, S12, S16, S18, S20, D12, D16, D18, D20 y L20.\n",
        "\n",
        "La variable Equipo, pese a que se dan las combinaciones de la jornada, es relevante porque resulta directamente en una audiencia base u otra.\n",
        "\n",
        "La variable Horario, además de implicar el factor reductor de la audiencia base por moemento en el que tiene lugar y por solapamiento, incluye la restricción de obligatoriedad en dos slots concretos.\n",
        "\n",
        "Las múltiples combinaciones que se forman al asignar enfrentamientos en los diferentes horarios propuestos supone el total de soluciones.\n",
        "\n",
        "Por ejemplo:\n",
        "\n",
        "SOLUCIÓN 1: [B1 vs A1 - V20, B2 vs A2 - DS12, ... ]\n",
        "\n",
        "SOLUCIÓN 2: [B1 vs A1 - S20, B2 vs A2 - D20, ... ]\n"
      ]
    },
    {
      "cell_type": "code",
      "execution_count": null,
      "metadata": {
        "id": "AiskKkzZfy4e"
      },
      "outputs": [],
      "source": [
        "# A continuación se definen las variables del espacio de soluciones\n",
        "\n",
        "Equipos = ['A1', 'A2', 'A3', 'B1', 'B2', 'B3', 'B4', 'B5', 'B6', 'B7', 'B8', 'B9', 'B10', 'B11', 'C1', 'C2', 'C3', 'C4', 'C5', 'C6']\n",
        "CatA = ['A1', 'A2', 'A3']\n",
        "CatB = ['B1', 'B2', 'B3', 'B4', 'B5', 'B6', 'B7', 'B8', 'B9', 'B10', 'B11']\n",
        "CatC = ['C1', 'C2', 'C3', 'C4', 'C5', 'C6']\n",
        "\n",
        "Enfrentamientos = [\n",
        "    ['B1','A1'],\n",
        "    ['B2','A2'],\n",
        "    ['C1','C2'],\n",
        "    ['B3','A3'],\n",
        "    ['C3','C4'],\n",
        "    ['B4','C5'],\n",
        "    ['B5','B6'],\n",
        "    ['B7','B8'],\n",
        "    ['B9','C6'],\n",
        "    ['B10','B11']\n",
        "]\n",
        "\n",
        "Horarios = ['S12', 'S16', 'S18', 'S20', 'D12', 'D16', 'D18', 'D20']\n",
        "\n",
        "Horarios_obligatorios = ['V20', 'L20']  # Horarios a asignar obligatoriamente\n"
      ]
    },
    {
      "cell_type": "markdown",
      "metadata": {
        "id": "gRgDLBtMhvmR"
      },
      "source": [
        "La siguiente función muestra la asignación aleatoria de horarios, generando un ejemplo de solución en cada ejecución.\n",
        "\n",
        "Al añadirse la restricción de obligatoriedad de partidos en horario de lunes y viernes, cada ejecución podría considerarse como solución al problema.\n",
        "\n",
        "Al no haberse implementado el cálculo de audiencias en función de las estadísticas aportadas en el enunciado, no se sabe cómo de buena o mala es cada una de las combinaciones generadas."
      ]
    },
    {
      "cell_type": "code",
      "execution_count": null,
      "metadata": {
        "id": "XA0fZn8lbKBk"
      },
      "outputs": [],
      "source": [
        "import random\n",
        "\n",
        "def horarios_aleatorios(enfrentamientos, horarios, horarios_obligatorios):\n",
        "  enfrentamientos_con_horarios = []\n",
        "\n",
        "  # Sublistas a las que se asignarán horarios obligatorios de la lista_adicional\n",
        "  sublistas_obligatorias = random.sample(range(len(enfrentamientos)), len(horarios_obligatorios))\n",
        "  # Verificar si el enfrentamiento es una de las sublistas con los horarios obligatorios\n",
        "  for i, enfrentamiento in enumerate(enfrentamientos):\n",
        "    if i in sublistas_obligatorias:\n",
        "      # Asignar horario obligatorio\n",
        "      horario = horarios_obligatorios[sublistas_obligatorias.index(i)]\n",
        "    else:\n",
        "      # Seleccionar aleatoriamente un horario no utilizado previamente en otros enfrentamientos\n",
        "      horario = random.choice([h for h in horarios if h not in enfrentamientos_con_horarios])\n",
        "\n",
        "    # Agregar el enfrentamiento con horario a la lista resultante\n",
        "    enfrentamiento_con_horario = enfrentamiento + [horario]\n",
        "    enfrentamientos_con_horarios.append(enfrentamiento_con_horario)\n",
        "\n",
        "  return enfrentamientos_con_horarios"
      ]
    },
    {
      "cell_type": "code",
      "execution_count": null,
      "metadata": {
        "colab": {
          "base_uri": "https://localhost:8080/"
        },
        "id": "a8l9orLojIAg",
        "outputId": "607283c2-8649-4caa-a7cd-1456d897ba8e"
      },
      "outputs": [
        {
          "output_type": "stream",
          "name": "stdout",
          "text": [
            "['B1', 'A1', 'D20']\n",
            "['B2', 'A2', 'S18']\n",
            "['C1', 'C2', 'S18']\n",
            "['B3', 'A3', 'S16']\n",
            "['C3', 'C4', 'S20']\n",
            "['B4', 'C5', 'S20']\n",
            "['B5', 'B6', 'V20']\n",
            "['B7', 'B8', 'S18']\n",
            "['B9', 'C6', 'L20']\n",
            "['B10', 'B11', 'S12']\n"
          ]
        }
      ],
      "source": [
        "enfrentamientos_con_horarios = horarios_aleatorios(Enfrentamientos, Horarios, Horarios_obligatorios)\n",
        "\n",
        "# Imprimir la solución\n",
        "for i in enfrentamientos_con_horarios:\n",
        "  print(i)"
      ]
    },
    {
      "cell_type": "markdown",
      "metadata": {
        "id": "L1wkwP8w8Y22"
      },
      "source": [
        "## ¿Cuál es la función objetivo?"
      ]
    },
    {
      "cell_type": "markdown",
      "metadata": {
        "id": "rtOJ9IVNMMQr"
      },
      "source": [
        "Una vez conocido el espacio de posibles soluciones, es necesario ajustarlo al objetivo del problema, es decir, maximizar la audiencia de la jornada de La Liga.\n",
        "\n",
        "Para optimizar la combinación de horarios que devuelva la mayor audiencia posible en la jornada es necesario tener en cuenta tres factores:\n",
        "- Estadísticas asociadas a categoría (F_Cat): las audiencias son mayores para enfrentamientos entre equipos de mayor categoría. Dado que los enfrentamientos son un dato conocido, el cálculo de este valor puede compararse con el de la audiencia base sobre el que se aplicarán factores de reducción.\n",
        "- Estadísticas asociadas al horario (F_hor): las audiendias son máximas, en coeficiente, sábado y domingo a las 20h.\n",
        "- Estadísticas de coincidencia (F_Coin): las coincidencias entre dos o más partidos en una franja horaria supone una reducción de la audiencia.\n",
        "\n",
        "Por tanto, la función que recoge el valor de cada enfrentamiento se calcula con la siguiente ecuación:\n",
        "\n",
        "Func_partido_i = F_Cat * F_Hor * F_Coin\n",
        "\n",
        "Y la función total a optimizar será la suma de las audiencias de cada partido:\n",
        "\n",
        "Func_tot = sum(Func_paprtido_1 + Func_partido_2 + ... + Func_partido_10)"
      ]
    },
    {
      "cell_type": "markdown",
      "metadata": {
        "id": "WCRvg7GYAnIa"
      },
      "source": [
        "### Audiancia base y factores"
      ]
    },
    {
      "cell_type": "markdown",
      "metadata": {
        "id": "gC2SCk59Jj5B"
      },
      "source": [
        "De cara a una mejor comprensión de la función a optimizar, se codifica tanto el cálculo de la audiencia base como los factores reductores de audiencia en función de los horarios y el solapamiento.\n"
      ]
    },
    {
      "cell_type": "markdown",
      "metadata": {
        "id": "iP4dNJ_VB53O"
      },
      "source": [
        "La siguiente función calcula la audicienda base de una jornada teniendo en cuenta:\n",
        "- El factor de la categorías de los equipos que se enfrentan\n",
        "- El factor del horario asignado\n",
        "\n",
        "*Es necesario añadir que para calcular la función objetivo real, aún se tiene que incluir la penalización por solapamiento de horarios."
      ]
    },
    {
      "cell_type": "code",
      "execution_count": null,
      "metadata": {
        "id": "na75Slh3MOIj"
      },
      "outputs": [],
      "source": [
        "def aud_base(jornada):\n",
        "\n",
        "  jornada_corregida = []\n",
        "\n",
        "  for partido in jornada:\n",
        "    local = partido[0]\n",
        "    visitante = partido[1]\n",
        "    slot = partido[2]\n",
        "\n",
        "    # Se ifentifican los equipos y su audiencia por petenencia a categoría\n",
        "    if local in CatA and visitante in CatA:\n",
        "      aud_base = 2\n",
        "    elif local in CatB and visitante in CatB:\n",
        "      aud_base = 0.9\n",
        "    elif local in CatC and visitante in CatC:\n",
        "      aud_base = 0.47\n",
        "    elif (local in CatA and visitante in CatB) or (local in CatB and visitante in CatA):\n",
        "      aud_base = 1.3\n",
        "    elif (local in CatA and visitante in CatC) or (local in CatC and visitante in CatA):\n",
        "      aud_base = 1\n",
        "    elif (local in CatB and visitante in CatC) or (local in CatC and visitante in CatB):\n",
        "      aud_base = 0.75\n",
        "\n",
        "    # Se aplica la corrección por horario\n",
        "    horarios = {'S20': 1, 'D20': 1, 'V20': 0.4, 'L20': 0.4, 'S12': 0.55, 'S16': 0.7, 'S18': 0.8, 'D12': 0.45, 'D16': 0.75, 'D18': 0.85}\n",
        "    aud_base_slot = aud_base * horarios.get(slot, 0)\n",
        "\n",
        "    partido_corregido = partido + [aud_base_slot]\n",
        "    jornada_corregida.append(partido_corregido)\n",
        "\n",
        "  return jornada_corregida"
      ]
    },
    {
      "cell_type": "code",
      "execution_count": null,
      "metadata": {
        "colab": {
          "base_uri": "https://localhost:8080/"
        },
        "id": "bPPC54wMjNKR",
        "outputId": "8e321832-fb4d-4a41-c3a7-3b17cf4e77b2"
      },
      "outputs": [
        {
          "output_type": "stream",
          "name": "stdout",
          "text": [
            "['B1', 'A1', 'D12', 0.5850000000000001]\n",
            "['B2', 'A2', 'D16', 0.9750000000000001]\n",
            "['C1', 'C2', 'S12', 0.2585]\n",
            "['B3', 'A3', 'S16', 0.9099999999999999]\n",
            "['C3', 'C4', 'D12', 0.2115]\n",
            "['B4', 'C5', 'S20', 0.75]\n",
            "['B5', 'B6', 'V20', 0.36000000000000004]\n",
            "['B7', 'B8', 'S16', 0.63]\n",
            "['B9', 'C6', 'D16', 0.5625]\n",
            "['B10', 'B11', 'L20', 0.36000000000000004]\n"
          ]
        }
      ],
      "source": [
        "# Asignación aleatoria de horario\n",
        "enfrentamientos_con_horarios = horarios_aleatorios(Enfrentamientos, Horarios, Horarios_obligatorios)\n",
        "\n",
        "# Cálculo de audiendias sin corrección por solapamiento\n",
        "audiencia_base = aud_base(enfrentamientos_con_horarios)\n",
        "for i in audiencia_base:\n",
        "  print(i)"
      ]
    },
    {
      "cell_type": "markdown",
      "metadata": {
        "id": "1GQS8zbHtL7d"
      },
      "source": [
        "Tras el cálculo de audiencias base con el correspondiente factor horario, se aplican las reducciones de audiencia en base a los solapamientos para obtener valores reales de la función a optimizar.\n",
        "\n",
        "La siguiente función incluye los factores de reducción por solapamiento:"
      ]
    },
    {
      "cell_type": "code",
      "execution_count": null,
      "metadata": {
        "id": "4p0Sd3qC4QYm"
      },
      "outputs": [],
      "source": [
        "def aud_finales(audiencias_jornada):\n",
        "\n",
        "  # Se crea un contador para contabilizar las repeticiones en horario\n",
        "  contador = {}\n",
        "  for sublista in audiencias_jornada:\n",
        "    primera_posicion = sublista[-2]\n",
        "    if primera_posicion in contador:\n",
        "      contador[primera_posicion] += 1\n",
        "    else:\n",
        "     contador[primera_posicion] = 1\n",
        "  #print(\"\\nHorarios asignados: \\n\",contador)\n",
        "\n",
        "  # Se aplica el factor de solapamiento para cada fecha con más de un enfrentamiento\n",
        "  for clave, valor in contador.items():\n",
        "    if valor > 1:\n",
        "      indices_coincidentes = [i for i, sublista in enumerate(audiencias_jornada) if sublista[-2] == clave]\n",
        "      # Multiplicar por el factor\n",
        "      for indice in indices_coincidentes:\n",
        "        if valor == 2:\n",
        "          audiencias_jornada[indice][-1] = audiencias_jornada[indice][-1] * 0.75\n",
        "        elif valor == 3:\n",
        "          audiencias_jornada[indice][-1] = audiencias_jornada[indice][-1] * 0.55\n",
        "        elif valor == 4:\n",
        "          audiencias_jornada[indice][-1] = audiencias_jornada[indice][-1] * 0.4\n",
        "        elif valor == 5:\n",
        "          audiencias_jornada[indice][-1] = audiencias_jornada[indice][-1] * 0.3\n",
        "        elif valor == 6:\n",
        "          audiencias_jornada[indice][-1] = audiencias_jornada[indice][-1] * 0.25\n",
        "        elif valor == 7:\n",
        "          audiencias_jornada[indice][-1] = audiencias_jornada[indice][-1] * 0.22\n",
        "        elif valor == 8:\n",
        "          audiencias_jornada[indice][-1] = audiencias_jornada[indice][-1] * 0.2\n",
        "        elif valor == 9:\n",
        "          audiencias_jornada[indice][-1] = audiencias_jornada[indice][-1] * 0.2\n",
        "\n",
        "  return audiencias_jornada"
      ]
    },
    {
      "cell_type": "markdown",
      "metadata": {
        "id": "aiQskfVuCUdP"
      },
      "source": [
        "El siguiente código permite comparar los resultados de audiencia obtenidos sin y con la corrección de solapamiento:"
      ]
    },
    {
      "cell_type": "code",
      "execution_count": null,
      "metadata": {
        "colab": {
          "base_uri": "https://localhost:8080/"
        },
        "id": "_PmSYqHE3uvh",
        "outputId": "39f9f77c-9f86-412a-aa92-ec9ae64156a2"
      },
      "outputs": [
        {
          "output_type": "stream",
          "name": "stdout",
          "text": [
            "\n",
            "Audiencias sin corrección de solapamiento:\n",
            "['B1', 'A1', 'L20', 0.52]\n",
            "['B2', 'A2', 'D20', 1.3]\n",
            "['C1', 'C2', 'D20', 0.47]\n",
            "['B3', 'A3', 'S16', 0.9099999999999999]\n",
            "['C3', 'C4', 'D20', 0.47]\n",
            "['B4', 'C5', 'D20', 0.75]\n",
            "['B5', 'B6', 'S12', 0.49500000000000005]\n",
            "['B7', 'B8', 'D18', 0.765]\n",
            "['B9', 'C6', 'V20', 0.30000000000000004]\n",
            "['B10', 'B11', 'D20', 0.9]\n",
            "Audiencia total: 6.88\n",
            "\n",
            "Audiencias con corrección de solapamiento:\n",
            "['B1', 'A1', 'L20', 0.52]\n",
            "['B2', 'A2', 'D20', 0.39]\n",
            "['C1', 'C2', 'D20', 0.141]\n",
            "['B3', 'A3', 'S16', 0.9099999999999999]\n",
            "['C3', 'C4', 'D20', 0.141]\n",
            "['B4', 'C5', 'D20', 0.22499999999999998]\n",
            "['B5', 'B6', 'S12', 0.49500000000000005]\n",
            "['B7', 'B8', 'D18', 0.765]\n",
            "['B9', 'C6', 'V20', 0.30000000000000004]\n",
            "['B10', 'B11', 'D20', 0.27]\n",
            "Audiencia total: 4.157\n"
          ]
        }
      ],
      "source": [
        "# Asignación aleatoria de horario\n",
        "enfrentamientos_con_horarios = horarios_aleatorios(Enfrentamientos, Horarios, Horarios_obligatorios)\n",
        "\n",
        "print('\\nAudiencias sin corrección de solapamiento:')\n",
        "# Cálculo de audiendias sin corrección por solapamiento\n",
        "audiencia_base = aud_base(enfrentamientos_con_horarios)\n",
        "for i in audiencia_base:\n",
        "  print(i)\n",
        "print(f\"Audiencia total: {sum(sublista[-1] for sublista in audiencia_base if sublista)}\")\n",
        "\n",
        "# Se aplica la función de solapamiento\n",
        "audiendia_con_solapamiento = aud_finales(audiencia_base)\n",
        "print('\\nAudiencias con corrección de solapamiento:')\n",
        "for i in audiendia_con_solapamiento:\n",
        "  print(i)\n",
        "print(f\"Audiencia total: {sum(sublista[-1] for sublista in audiendia_con_solapamiento if sublista)}\")"
      ]
    },
    {
      "cell_type": "markdown",
      "metadata": {
        "id": "9ckGQqId-w97"
      },
      "source": [
        "## ¿Cómo implemento las restricciones?"
      ]
    },
    {
      "cell_type": "markdown",
      "metadata": {
        "id": "ZrYGhfWjMOhD"
      },
      "source": [
        "La principal restricción a incluir, además de la reducción de las audiencias base en función de los coeficientes comentados anteriormente, es la obligatoriedad de un partido en horario de viernes y lunes pese a tener el coeficiente más bajo.\n",
        "\n",
        "Esta condición implica que, dentro de los 10 posibles horarios a elegir para cada enfrentamiento, habrá 2 que siempre deberán estar presentes en la solución de la jornada óptima. Dejando los 8 horarios restantes como alternativas \"flexibles\" para el resto de partidos.\n",
        "\n",
        "Tendiendo a las implicaciones de los horarios de Lunes y Viernes, se observa una reducción del 60% de la audiciencia. Como esta cifra es muy superior a cualquier otro horario, se tenderá a la no repetición de partidos los Lunes y Viernes.\n",
        "\n",
        "Esta restricción está incluida en la función 'horarios_aleatorios' del primer apartado, donde se asignan obligatoriamente esos horarios para dos enfrentamiento cualquiera de la jornada.\n"
      ]
    },
    {
      "cell_type": "markdown",
      "metadata": {
        "id": "HZz52wOppp-U"
      },
      "source": [
        "#Análisis\n"
      ]
    },
    {
      "cell_type": "markdown",
      "metadata": {
        "id": "hCgkshPIIbo_"
      },
      "source": [
        "### ¿Qué complejidad tiene el problema?\n"
      ]
    },
    {
      "cell_type": "markdown",
      "metadata": {
        "id": "cos3F60rKJn2"
      },
      "source": [
        "####Contabilizar el espacio de soluciones\n",
        "\n",
        "Para contabilizar el espacio de soluciones se parte de analisis realizado en el apartado anterior.\n",
        "\n",
        "Teniendo en cuenta que los enfrentamientos son un parámetro dado y que se tienen que asignar 10 horarios de forma que se maximice la audiencia, el número de combinaciones posible es **10^10, es decir, 10 mil millones de soluciones posibles**.\n",
        "\n",
        "Sobre esta cifra tiene que hacerse el ajuste asociado a la restricción de los partidos de lunes y viernes. Ya que dos de los partidos tendrán que jugarse en esos horarios obligatoriamente, la combinación de soluciones se reduce a: **8 * 9 * 10^8**."
      ]
    },
    {
      "cell_type": "markdown",
      "metadata": {
        "id": "eg9Pw8P5KHAo"
      },
      "source": [
        "#### Orden de complejidad\n",
        "\n",
        "El orden de complejidad se relaciona con la complejidad empleada por el algoritmo para resolver el problema en cuestión.\n",
        "\n",
        "En el siguiente aparetado se proponen dos técnicas para resolver el problema de optimización de la jornada de La Liga:\n",
        "\n",
        "1. Búsqueda aleatoria\n",
        "\n",
        "Esta técnica parte del código desarrollado en el apartado anterior para detallar las fases de modelado.\n",
        "\n",
        "Atendiendo al código, se observa la llamada de 3 funciones principales, cada una de estas con la siguiente complejidad de código:\n",
        "\n",
        "- horarios_aleatorios(): O(n)\n",
        "- aud_base(): O(n)\n",
        "- aud_finales(): O(n)\n",
        "\n",
        "Adicionalmente, en la función que invoca a las tres funciones mencionadas, se incluye un bucle para la colección de audiencias, que equivaldría a una complejidad de O(n).\n",
        "\n",
        "Dado que el código se ejecuta de forma secuancial sin incurrir en bucles anidados, **la complejidad total del código es de O(n)**, pero, para realizar una búsquqeda sobre N soluciones, es necesario introducir la función general en un bluque principal, **incrementando a O(n^2) la complejidad**.\n",
        "\n",
        "2. Búsqueda Local\n",
        "\n",
        "Para la técnica de búsqueda local se invocan a las siguientes funciones, con los siguientes valores de complejidad:\n",
        "\n",
        "- audiencias_final_jornada(): O(n)\n",
        "- genera_vecina(): O(n)\n",
        "- aud_base(): O(n)\n",
        "- aud_finales(): O(n)\n",
        "\n",
        "Además del bucle comentado anteriormente para la obtención de las audiencias finales.\n",
        "\n",
        "Dado que las tres últimas funciones comentadas anteriormente se integran en un bucle principal, **la complejidad final del desarrollo es O(n^2)**."
      ]
    },
    {
      "cell_type": "markdown",
      "metadata": {
        "id": "ixEJUwH_pv7M"
      },
      "source": [
        "#Diseño"
      ]
    },
    {
      "cell_type": "markdown",
      "metadata": {
        "id": "kOMlYicxIrOn"
      },
      "source": [
        "## ¿Qué técnica utilizo y por qué?\n",
        "\n"
      ]
    },
    {
      "cell_type": "markdown",
      "metadata": {
        "id": "xmoCTFG1xbWv"
      },
      "source": [
        "## Búsqueda aleatoria\n",
        "\n",
        "Este algoritmo heurístico, pese a parecer algo ingenuo, puede resultar útil en problemas complejos con restricciones y para los que no existe un problema determinista fácil de desarrollar.\n",
        "\n",
        "Además de lo comentado, se elige esta técnica como una opción sencilla de implementar y capaz de explorar de forma diversa el gran espacio de soluciones que presenta el problema.\n",
        "\n",
        "En su contra, además de que no se garantiza la solución óptima, es necesario reconocer que a priori no será de las mejores técnicas en cuanto a eficiencia y tiempo de ejecución.\n",
        "\n",
        "La siguiente función recoge el proceso utilizado en el apartado de modelado:"
      ]
    },
    {
      "cell_type": "code",
      "execution_count": null,
      "metadata": {
        "colab": {
          "base_uri": "https://localhost:8080/"
        },
        "id": "Igeu6mldjOOL",
        "outputId": "4e460e9c-be6d-4ef7-ba75-efb94cfb4a2a"
      },
      "outputs": [
        {
          "output_type": "stream",
          "name": "stdout",
          "text": [
            "\n",
            "Audiencias con corrección de solapamiento:\n",
            "['B1', 'A1', 'L20', 0.52]\n",
            "['B2', 'A2', 'D20', 0.39]\n",
            "['C1', 'C2', 'D20', 0.141]\n",
            "['B3', 'A3', 'S16', 0.9099999999999999]\n",
            "['C3', 'C4', 'D20', 0.141]\n",
            "['B4', 'C5', 'D20', 0.22499999999999998]\n",
            "['B5', 'B6', 'S12', 0.49500000000000005]\n",
            "['B7', 'B8', 'D18', 0.765]\n",
            "['B9', 'C6', 'V20', 0.30000000000000004]\n",
            "['B10', 'B11', 'D20', 0.27]\n",
            "Audiencia total: 4.385325\n"
          ]
        }
      ],
      "source": [
        "def audiencias_final_jornada(Enfrentamientos, Horarios, Horarios_obligatorios):\n",
        "\n",
        "  # Asignación aleatoria de horario\n",
        "  enfrentamientos_con_horarios = horarios_aleatorios(Enfrentamientos, Horarios, Horarios_obligatorios)\n",
        "\n",
        "  # Cálculo de audiendias sin corrección por solapamiento\n",
        "  audiencia_base = aud_base(enfrentamientos_con_horarios)\n",
        "\n",
        "  # Se aplica la función de solapamiento\n",
        "  audiendia_con_solapamiento = aud_finales(audiencia_base)\n",
        "  aud_tot = sum(sublista[-1] for sublista in audiendia_con_solapamiento if sublista)\n",
        "\n",
        "  return audiendia_con_solapamiento, aud_tot\n",
        "\n",
        "jornada, audiencia = audiencias_final_jornada(Enfrentamientos, Horarios, Horarios_obligatorios)\n",
        "\n",
        "print('\\nAudiencias con corrección de solapamiento:')\n",
        "for i in audiendia_con_solapamiento:\n",
        "  print(i)\n",
        "print(f\"Audiencia total: {audiencia}\")"
      ]
    },
    {
      "cell_type": "markdown",
      "metadata": {
        "id": "wOEcx0g0dmDY"
      },
      "source": [
        "Se introduce la generación aleatoria de soluciones en un bucle con capacidad de detención en base a un máximo de iteraciones y se almacena el mejor resultado obtenido:\n",
        "\n",
        "MEJOR RESULTADO OBTENIDO: 6.85."
      ]
    },
    {
      "cell_type": "code",
      "execution_count": null,
      "metadata": {
        "colab": {
          "base_uri": "https://localhost:8080/"
        },
        "id": "aZy65DBZvapc",
        "outputId": "3a219603-88f7-4c9c-d577-0d36204e0aaf"
      },
      "outputs": [
        {
          "output_type": "stream",
          "name": "stderr",
          "text": [
            "Processing:  26%|██▌       | 1281/5000 [00:00<00:00, 9467.09iteration/s] "
          ]
        },
        {
          "output_type": "stream",
          "name": "stdout",
          "text": [
            "\n",
            "La mejor audiencia obtenida es de: 6.718500000000001 en la iteración 1281\n",
            "['B1', 'A1', 'D18', 1.105]\n",
            "['B2', 'A2', 'D16', 0.9750000000000001]\n",
            "['C1', 'C2', 'V20', 0.188]\n",
            "['B3', 'A3', 'D20', 1.3]\n",
            "['C3', 'C4', 'L20', 0.188]\n",
            "['B4', 'C5', 'S18', 0.6000000000000001]\n",
            "['B5', 'B6', 'S12', 0.49500000000000005]\n",
            "['B7', 'B8', 'S20', 0.675]\n",
            "['B9', 'C6', 'S20', 0.5625]\n",
            "['B10', 'B11', 'S16', 0.63]\n"
          ]
        },
        {
          "output_type": "stream",
          "name": "stderr",
          "text": [
            "\n"
          ]
        }
      ],
      "source": [
        "from tqdm import tqdm\n",
        "\n",
        "# Valor inicial para comparar\n",
        "mayor_audiencia = float('-inf')\n",
        "contador = 0\n",
        "max_iter = 5000\n",
        "max_sin_mejora = 1000\n",
        "\n",
        "# Bucle para ejecutar la función N veces y actualizar el mayor resultado\n",
        "for i in tqdm(range(max_iter), desc=\"Processing\", unit=\"iteration\"):\n",
        "    # Llamada a la función para obtener la jornada y la audiencia\n",
        "    jornada, audiencia = audiencias_final_jornada(Enfrentamientos, Horarios, Horarios_obligatorios)\n",
        "\n",
        "    # Actualizar el mayor resultado\n",
        "    if audiencia > mayor_audiencia:\n",
        "        mayor_audiencia = audiencia\n",
        "        jornada_top = jornada\n",
        "        contador = 0  # Restablecer el contador si hay una mejora\n",
        "        iter = i\n",
        "    else:\n",
        "        contador += 1\n",
        "\n",
        "    # Verificar si ha habido X ejecuciones consecutivas sin mejorar\n",
        "    if contador >= max_sin_mejora:\n",
        "      break\n",
        "\n",
        "\n",
        "print(f\"\\nLa mejor audiencia obtenida es de: {mayor_audiencia} en la iteración {i}\")\n",
        "for i in jornada_top:\n",
        "  print(i)"
      ]
    },
    {
      "cell_type": "markdown",
      "metadata": {
        "id": "8A6HsvMsbcf0"
      },
      "source": [
        "## Búsqueda Local\n",
        "\n",
        "Se propone la aplicación del algoritmo de búsqueda local para poner el foco en las soluciones que implican vecindad y poca variabilidad respecto a una solución inicial.\n",
        "\n",
        "Este enfoque contrasta con el del primer algoritmo implementado, búsqueda aleatoria, ya que esta tenía un componente de diversificación con mayor peso.\n",
        "\n",
        "Por tanto, lo que se busca con este algoritmo es la exploración en regiones próximas mediante cambios controlados en la solución incial."
      ]
    },
    {
      "cell_type": "markdown",
      "metadata": {
        "id": "65E0FNETqLAN"
      },
      "source": [
        "En primer lugar se codifica la función que genera las variaciones en la vecinidad que permiten la búsqueda local en base a la jornada de referencia.\n",
        "\n",
        "Esta función implementa dos formas de búsqueda local mediante los parámetros \"modo\" y \"num_intercambios\":\n",
        "- modo: puede tomar los valores de random o swap.\n",
        "  - modo random: se realiza una aleatorización de las horas definidas en la jornada de referencia para generar nuevas combinaciones en base a los horarios existentes.\n",
        "  - modo swap: re realiza el intercambio de hora entre pares de enfrentamientos.\n",
        "- num_intercambios: número de pares que se intercambian la hora en el modo swap."
      ]
    },
    {
      "cell_type": "code",
      "execution_count": null,
      "metadata": {
        "id": "nCJrqxRYP_YQ"
      },
      "outputs": [],
      "source": [
        "def genera_vecina(jornada_referencia, modo, num_intercambios):\n",
        "    # Clonar la jornada de referencia\n",
        "    jornada_vecina = [sublista.copy() for sublista in jornada_referencia]\n",
        "\n",
        "    if modo == \"random\":\n",
        "        # Intercambiar aleatoriamente los horarios\n",
        "        for sublista in jornada_vecina:\n",
        "            indice_nuevo = random.randint(0, len(jornada_vecina) - 1)\n",
        "            sublista[2], jornada_vecina[indice_nuevo][2] = jornada_vecina[indice_nuevo][2], sublista[2]\n",
        "\n",
        "    elif modo == \"swap\":\n",
        "        # Intercambiar los horarios entre dos enfrentamientos\n",
        "        for _ in range(num_intercambios):\n",
        "            indices_aleatorios = random.sample(range(len(jornada_vecina)), 2)\n",
        "            jornada_vecina[indices_aleatorios[0]][2], jornada_vecina[indices_aleatorios[1]][2] = (\n",
        "                jornada_vecina[indices_aleatorios[1]][2],\n",
        "                jornada_vecina[indices_aleatorios[0]][2],\n",
        "            )\n",
        "\n",
        "    return jornada_vecina"
      ]
    },
    {
      "cell_type": "markdown",
      "metadata": {
        "id": "XMlLrJeLuOZ8"
      },
      "source": [
        "A continuación, se desarrolla la función principal de búsqueda local que invoca a la generaciones de soluciones vecinas tras la inicialización de una jornada de referencia.\n",
        "\n",
        "MEJOR RESULTADO OBTENIDO:\n",
        "\n",
        "- random: 7.51 en < 40sg (Sim bargo se tienen resultados de más duración en los que la audiencia es mucho menor, alrededor de 5. Esto indica que la elección inicial de los horarios condiciona enormemente la solución final dada por la búsqueda local, como era previsible.)\n",
        "\n",
        "- swap (4 pares): 7.64 < 1sg"
      ]
    },
    {
      "cell_type": "code",
      "execution_count": null,
      "metadata": {
        "colab": {
          "base_uri": "https://localhost:8080/"
        },
        "id": "hDLCfU7GdsfX",
        "outputId": "90800325-ed1f-4e90-b9f3-ec5840191f10"
      },
      "outputs": [
        {
          "output_type": "stream",
          "name": "stderr",
          "text": [
            "Processing:   0%|          | 2631/1000000 [00:00<00:35, 27780.62iteration/s]"
          ]
        },
        {
          "output_type": "stream",
          "name": "stdout",
          "text": [
            "\n",
            "La audiencia referencia es de: 6.200500000000001\n",
            "['B1', 'A1', 'D18', 1.105]\n",
            "['B2', 'A2', 'S20', 0.9750000000000001]\n",
            "['C1', 'C2', 'V20', 0.188]\n",
            "['B3', 'A3', 'S12', 0.7150000000000001]\n",
            "['C3', 'C4', 'D16', 0.3525]\n",
            "['B4', 'C5', 'L20', 0.30000000000000004]\n",
            "['B5', 'B6', 'S18', 0.54]\n",
            "['B7', 'B8', 'S20', 0.675]\n",
            "['B9', 'C6', 'S18', 0.45000000000000007]\n",
            "['B10', 'B11', 'D20', 0.9]\n",
            "\n",
            "La mejor audiencia obtenida es de: 7.3885000000000005\n",
            "['B1', 'A1', 'D18', 1.105, 1.105]\n",
            "['B2', 'A2', 'S20', 0.9750000000000001, 1.3]\n",
            "['C1', 'C2', 'V20', 0.188, 0.188]\n",
            "['B3', 'A3', 'D20', 0.7150000000000001, 1.3]\n",
            "['C3', 'C4', 'L20', 0.3525, 0.188]\n",
            "['B4', 'C5', 'S12', 0.30000000000000004, 0.41250000000000003]\n",
            "['B5', 'B6', 'S18', 0.54, 0.7200000000000001]\n",
            "['B7', 'B8', 'D16', 0.675, 0.675]\n",
            "['B9', 'C6', 'S18', 0.45000000000000007, 0.6000000000000001]\n",
            "['B10', 'B11', 'S20', 0.9, 0.9]\n"
          ]
        },
        {
          "output_type": "stream",
          "name": "stderr",
          "text": [
            "\n"
          ]
        }
      ],
      "source": [
        "def busqueda_local(Enfrentamientos, Horarios, Horarios_obligatorios):\n",
        "\n",
        "  contador = 0\n",
        "  max_iter = 1000000\n",
        "  max_sin_mejora = 1000\n",
        "\n",
        "  # Generar una solucion inicial de referencia aleatoria con la funció previamente desarrollada\n",
        "  jornada_referencia, audiencia_referencia = audiencias_final_jornada(Enfrentamientos, Horarios, Horarios_obligatorios)\n",
        "  # Se define la mejor audiencia en base a la referencia\n",
        "  mayor_audiencia = audiencia_referencia\n",
        "\n",
        "  for i in tqdm(range(max_iter), desc=\"Processing\", unit=\"iteration\"):\n",
        "\n",
        "    # Generación de una solución vecina\n",
        "    jornada_vecina = genera_vecina(jornada_referencia, 'swap', 4)\n",
        "\n",
        "    # Evaluación de audiencia (se usan las funciones desarrolladas anteriormente)\n",
        "    audiencia_base_vecina = aud_base(jornada_vecina)\n",
        "    # Se aplica la función de solapamiento\n",
        "    audiendia_con_solapamiento_vecina = aud_finales(audiencia_base_vecina)\n",
        "    # Se calcula la audiencia total vecina\n",
        "    aud_vecina = sum(sublista[-1] for sublista in audiendia_con_solapamiento_vecina if sublista)\n",
        "\n",
        "    # Actualizar el mayor resultado\n",
        "    if aud_vecina > mayor_audiencia:\n",
        "        mayor_audiencia = aud_vecina\n",
        "        jornada_top = audiendia_con_solapamiento_vecina\n",
        "        contador = 0  # Restablecer el contador si hay una mejora\n",
        "        iter = i\n",
        "    else:\n",
        "        contador += 1\n",
        "\n",
        "    # Verificar si ha habido X ejecuciones consecutivas sin mejorar\n",
        "    if contador >= max_sin_mejora:\n",
        "      break\n",
        "\n",
        "  print(f\"\\nLa audiencia referencia es de: {audiencia_referencia}\")\n",
        "  for i in jornada_referencia:\n",
        "    print(i)\n",
        "\n",
        "  print(f\"\\nLa mejor audiencia obtenida es de: {mayor_audiencia}\")\n",
        "  for i in jornada_top:\n",
        "    print(i)\n",
        "\n",
        "busqueda_local(Enfrentamientos, Horarios, Horarios_obligatorios)"
      ]
    },
    {
      "cell_type": "markdown",
      "source": [
        "# Próximos pasos\n",
        "\n",
        "El siguiente apartado consiste en la resolución del problema empleando algoritmos genéticos.\n",
        "\n",
        "**Se plantea como trabajo futuro debido a la complejidad de su código y a ciertos errores encontrados en la forma de resolverlo que extienden su desarrollo en el tiempo. Se han planteado las diversas funciones que componen el bucle final pero está inacabado. Necesita de resolver algunos aspectos de código que colisionan debido al uso de funciones desarrolladas para los otros algoritmos.**\n",
        "\n"
      ],
      "metadata": {
        "id": "_N0Avd-FNnYm"
      }
    },
    {
      "cell_type": "markdown",
      "metadata": {
        "id": "kaMDwbpvkLsL"
      },
      "source": [
        "## Algoritmos genéticos\n",
        "\n",
        "Teniendo en cuenta que de las pruebas anteriores, la búsqueda local conseguía mejores resultados con un menor consumo de recursos gracias a una buena elección inicial. Se confía en un algoritmo genético que parta de una población aleatoria e itere seleccionando los mejores individuos de esta para perpetuar una especia de soluciones óptimas.\n",
        "\n",
        "En caso de que este algoritmo genético se quisiera orientar como un algoritmo evolutivo, se pueden observar dos \"problemas\" que aparecerían una vez seleccionada la mejor población inicial dada la restricción de tener partidos los Viernes y los Lunes obligatoriamente:\n",
        "\n",
        "- Los cruces deberían preservar la aparición de estos horarios en los descendientes.\n",
        "- Las mutaciones deberían alterar los horarios de forma que tanto Lunes como Viernes sigan siendo parte del individuo mutado.\n",
        "\n",
        "Ambas técnicas parecen más propias de un laboratorio que producto del propio proceso de evolución humana, al menos de la evolución definida por Darwin.\n",
        "\n",
        "Por esto, se decide un algoritmo genético donde se puedan ejecutar estas técnicas de laboratorio sin ofender a ningún científico."
      ]
    },
    {
      "cell_type": "markdown",
      "metadata": {
        "id": "YGK-BUnE1G_P"
      },
      "source": [
        "En primer lugar, se desarrolla la función de población inicial, basada en la generación de n_progenitores iniciales.\n",
        "\n",
        "Como la función inicial también genera la audiencia asociada a cada solución, se realiza una ordenación sobre estas y se devuelven las n_mejores."
      ]
    },
    {
      "cell_type": "code",
      "execution_count": null,
      "metadata": {
        "id": "gMcrCkKidwRX"
      },
      "outputs": [],
      "source": [
        "def Generar_Poblacion(Enfrentamientos, Horarios, Horarios_obligatorios,n_progenitores, n_mejores):\n",
        "  poblacion = []\n",
        "  mejores_resultados = []\n",
        "  max_aud_poblacion = float('-inf')\n",
        "  mejor_pob = None\n",
        "\n",
        "  # Generación de población inicial aleatoria\n",
        "  for i in range(n_progenitores):\n",
        "    jornada_referencia, audiencia_referencia = audiencias_final_jornada(Enfrentamientos, Horarios, Horarios_obligatorios)\n",
        "    poblacion.append([jornada_referencia,audiencia_referencia])\n",
        "\n",
        "    # Almacenar jornada de máxima audiencia\n",
        "    if audiencia_referencia > max_aud_poblacion:\n",
        "      mejor_pob = jornada_referencia\n",
        "      max_aud_poblacion = audiencia_referencia\n",
        "\n",
        "  # Ordenar descendente la lista en base a la audiencia calculada anteriormente\n",
        "  mejores = sorted(poblacion, key=lambda x: x[1], reverse=True)\n",
        "\n",
        "  return mejores[:n_mejores], mejor_pob, max_aud_poblacion"
      ]
    },
    {
      "cell_type": "markdown",
      "metadata": {
        "id": "725rmio78etA"
      },
      "source": [
        "Tras seleccionar los mejores individuos de la población aleatoria, se procede al cruce de estos y a una mutación \"selectiva\"."
      ]
    },
    {
      "cell_type": "code",
      "execution_count": null,
      "metadata": {
        "id": "fMVqPByL8d0i"
      },
      "outputs": [],
      "source": [
        "def Cruce_Mutacion(mejores):\n",
        "\n",
        "  hijo = []\n",
        "\n",
        "  # Restricciones\n",
        "  slots_obligatorios = ['L20', 'V20']\n",
        "  alternativas = ['S12', 'S16', 'S18', 'S20', 'D12', 'D16', 'D18', 'D20']\n",
        "\n",
        "  if len(mejores) % 2 != 0:\n",
        "    print(\"Error: Número impar de padres.\")\n",
        "    return 0\n",
        "\n",
        "  print(mejores)\n",
        "\n",
        "  for i in range(0, len(mejores), 2):\n",
        "    pareja = mejores[i:i+2]\n",
        "\n",
        "    # Cruce de mejores soluciones por la mitad\n",
        "    m1, m2 = pareja[0][0], pareja[1][0]\n",
        "    cruce = m1[:5] + m2[5:]\n",
        "\n",
        "    # Variables de confirmación de la presencia de los horarios obligatorios\n",
        "    l20 = any('L20' in sublist for sublist in cruce)\n",
        "    v20 = any('V20' in sublist for sublist in cruce)\n",
        "    # Verificar la presencia\n",
        "    if l20 and v20:\n",
        "      # Se contabiliza si hay solapamiento en los partidos de Lunes/Viernes\n",
        "      l20_count = sum('L20' in sublist for sublist in cruce)\n",
        "      v20_count = sum('V20' in sublist for sublist in cruce)\n",
        "      # Se reemplazan los excesos de partidos en horario de Lunes/Viernes\n",
        "      if l20_count > 1:\n",
        "        for sublist in cruce:\n",
        "          if 'L20' in sublist:\n",
        "            sublist[2] = random.choice(alternativas)\n",
        "      if v20_count > 1:\n",
        "        for sublist in cruce:\n",
        "          if 'V20' in sublist:\n",
        "            sublist[2] = random.choice(alternativas)\n",
        "      hijo.append(cruce)\n",
        "\n",
        "    # Realizar mutaciones para forzar la aparición de Lunes/Viernes\n",
        "    elif not l20 and not v20:\n",
        "      cruce[2] = 'L20'\n",
        "      cruce[2] = 'V20'\n",
        "      hijo.append(cruce)\n",
        "    elif not l20:\n",
        "      random_index = random.choice(range(len(cruce[0])))\n",
        "      if cruce[random_index][2] != 'V20':\n",
        "        cruce[random_index][2] = 'L20'\n",
        "      else:\n",
        "        cruce[random_index - 1][2] = 'L20'\n",
        "      hijo.append(cruce)\n",
        "    elif not v20:\n",
        "      random_index = random.choice(range(len(cruce[0])))\n",
        "      if cruce[random_index][2] != 'L20':\n",
        "        cruce[random_index][2] = 'V20'\n",
        "      else:\n",
        "        cruce[random_index - 1][2] = 'V20'\n",
        "      hijo.append(cruce)\n",
        "  # Se eliminan las audiencias pasadas de las sub-listas\n",
        "  return [[[subelem for j, subelem in enumerate(sublist) if j != 3] for sublist in sublist_list] for sublist_list in hijo]"
      ]
    },
    {
      "cell_type": "markdown",
      "metadata": {
        "id": "SOOFjr-l8yya"
      },
      "source": [
        "Para evaluar la población tras cuces/mutaciones se usan las funciones desarrolladas anteriormente que permiten calcular la audiencia final a partir de una jornada."
      ]
    },
    {
      "cell_type": "code",
      "execution_count": null,
      "metadata": {
        "id": "JOmt0xc48yPD"
      },
      "outputs": [],
      "source": [
        "def Eval_Selec(poblacion):\n",
        "\n",
        "  mejores_resultados = []\n",
        "  max_aud_poblacion = float('-inf')\n",
        "  mejor_pob = None\n",
        "\n",
        "  for i in poblacion:\n",
        "    # Evaluación de audiencia (se usan las funciones desarrolladas anteriormente)\n",
        "    audiencia_base_cruce = aud_base(poblacion)\n",
        "    # Se aplica la función de solapamiento\n",
        "    audiendia_con_solapamiento_cruce = aud_finales(audiencia_base_cruce)\n",
        "    # Se calcula la audiencia total vecina\n",
        "    aud_poblacion = sum(sublista[-1] for sublista in audiendia_con_solapamiento_cruce if sublista)\n",
        "\n",
        "    if aud_poblacion > max_aud_poblacion:\n",
        "      max_aud_poblacion = aud_poblacion\n",
        "      mejor_pob = i\n",
        "\n",
        "  mejores_resultados.append([i, aud_poblacion])\n",
        "\n",
        "  return mejores_resultados, max_aud_poblacion, mejor_pob"
      ]
    },
    {
      "cell_type": "markdown",
      "metadata": {
        "id": "EioH_fnvH9iF"
      },
      "source": [
        "Finalmente se genera la función que invoca a la generación de población, la selección y el cruce de los mejores."
      ]
    },
    {
      "cell_type": "code",
      "execution_count": null,
      "metadata": {
        "id": "jspl47g9IMy-"
      },
      "outputs": [],
      "source": [
        "def algoritmo_genetico(Enfrentamientos, Horarios, Horarios_obligatorios,n_progenitores=1000, n_mejores=100, generaciones=10):\n",
        "  # Se genera la mejor población inicial\n",
        "  poblacion, mejor_pob, max_aud_poblacion = Generar_Poblacion(Enfrentamientos, Horarios, Horarios_obligatorios,n_progenitores, n_mejores)\n",
        "\n",
        "  print(f'\\nMejor individuo: con audiencia de: {max_aud_poblacion}\\n')\n",
        "  print(mejor_pob)\n",
        "\n",
        "  #Condicion de parada\n",
        "  parar = False\n",
        "  n=0\n",
        "  #Inciamos el cliclo de generaciones\n",
        "  while(parar == False) :\n",
        "\n",
        "    # Cruce de la poblacion(incluye mutación)\n",
        "    poblacion = Cruce_Mutacion(poblacion)\n",
        "\n",
        "    # Evaluación de la mejor población y selección de la audiencia\n",
        "    resultados_cruce, max_aud_cruce, mejor_cruce = Eval_Selec(poblacion)\n",
        "\n",
        "    if max_aud_cruce > max_aud_poblacion:\n",
        "      mejor_pob = mejor_cruce\n",
        "      max_aud_poblacion = max_aud_cruce\n",
        "\n",
        "    print(f'\\nGeneración: #{n}. Mejor individuo: {mejor_pob} con audiencia de: {max_aud_poblacion}\\n')\n",
        "\n",
        "    #Numero de generaciones. Criterio de parada\n",
        "    if n==generaciones:\n",
        "      parar = True\n",
        "    n +=1\n",
        "\n",
        "  return mejor_pob, max_aud_poblacion"
      ]
    }
  ],
  "metadata": {
    "colab": {
      "provenance": [],
      "toc_visible": true,
      "include_colab_link": true
    },
    "kernelspec": {
      "display_name": "Python 3",
      "name": "python3"
    }
  },
  "nbformat": 4,
  "nbformat_minor": 0
}