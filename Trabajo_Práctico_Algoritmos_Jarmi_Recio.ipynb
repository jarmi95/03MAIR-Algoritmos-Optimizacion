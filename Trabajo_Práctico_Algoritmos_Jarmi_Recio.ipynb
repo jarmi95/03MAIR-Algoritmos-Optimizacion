{
  "nbformat": 4,
  "nbformat_minor": 0,
  "metadata": {
    "colab": {
      "provenance": [],
      "toc_visible": true,
      "include_colab_link": true
    },
    "kernelspec": {
      "name": "python3",
      "display_name": "Python 3"
    }
  },
  "cells": [
    {
      "cell_type": "markdown",
      "metadata": {
        "id": "view-in-github",
        "colab_type": "text"
      },
      "source": [
        "<a href=\"https://colab.research.google.com/github/jarmi95/03MAIR-Algoritmos-Optimizacion/blob/main/Trabajo_Pr%C3%A1ctico_Algoritmos_Jarmi_Recio.ipynb\" target=\"_parent\"><img src=\"https://colab.research.google.com/assets/colab-badge.svg\" alt=\"Open In Colab\"/></a>"
      ]
    },
    {
      "cell_type": "markdown",
      "metadata": {
        "id": "hVbXYX-RfPWh"
      },
      "source": [
        "# Algoritmos de optimización - Trabajo Práctico<br>\n",
        "Nombre y Apellidos: Jarmi Recio Martínez  <br>\n",
        "Url: https://github.com/jarmi95/03MAIR-Algoritmos-Optimizacion/blob/main/Trabajo_Práctico_Algoritmos_Jarmi_Recio.ipynb<br>\n",
        "Google Colab: https://colab.research.google.com/drive/1p6xZElvV_0kJtUB4ltDEL4Ubhbtqtp_f?usp=sharing <br>\n",
        "Problema:\n",
        ">1. Sesiones de doblaje <br>\n",
        ">2. <b>Organizar los horarios de partidos de La Liga</b><br>\n",
        ">3. Configuración de Tribunales\n",
        "\n",
        "Descripción del problema:\n",
        "\n",
        "Desde la La Liga de fútbol profesional se pretende organizar los horarios de los partidos de liga de cada jornada. Se conocen algunos datos que nos deben llevar a diseñar un algoritmo que realice la asignación de los partidos a los horarios de forma que maximice la audiencia.\n",
        "\n",
        "Los horarios disponibles se conocen a priori y son los siguientes:\n",
        "\n",
        "- Viernes: 20\n",
        "- Sábado: 12, 16, 18, 20\n",
        "- Domingo: 12, 16, 18, 20\n",
        "- Lunes: 20\n",
        "\n",
        "En primer lugar se clasifican los equipos en tres categorías según el numero de seguidores (que tiene relación directa con la audiencia). Hay 3 equipos en la categoría A, 11 equipos de categoría B y 6 equipos de categoría C.\n",
        "\n",
        "Se conoce estadísticamente la audiencia que genera cada partido según los equipos que se enfrentan y en horario de sábado a las 20h (el mejor en todos los casos)\n",
        "\n",
        "|              | Categoría A  | Categoría B  | Categoría C |\n",
        "|--------------|--------------|--------------|--------------|\n",
        "| Categoría A  | 2 Millones   | 1,3 Millones | 1 Millón     |\n",
        "| Categoría B  |              | 0,9 Millones | 0,75 Millones|\n",
        "| Categoría C  |              |              | 0,47 Millones|\n",
        "\n",
        "\n",
        "Si el horario del partido no se realiza a las 20 horas del sábado se sabe que se reduce según los coeficientes de la siguiente tabla.\n",
        "\n",
        "Debemos asignar obligatoriamente siempre un partido el viernes y un partido el lunes.\n",
        "\n",
        "|          | Viernes | Sábado  | Domingo | Lunes   |\n",
        "|----------|---------|---------|---------|---------|\n",
        "| 12h      |    -    |   0,55  |   0,45  |    -    |\n",
        "| 16h      |    -    |   0,7   |   0,75  |    -    |\n",
        "| 18h      |    -    |   0,8   |   0,85  |    -    |\n",
        "| 20h      |   0,4   |    1    |    1    |   0,4   |\n",
        "\n",
        "\n",
        "Es posible la coincidencia de horarios pero en este\n",
        "caso la audiencia de cada partido se verá afectada y\n",
        "se estima que se reduce en porcentaje según la\n",
        "siguiente tabla dependiendo del número de\n",
        "coincidencias:\n",
        "\n",
        "| Coincidencias | -% |\n",
        "|---------------|----|\n",
        "| 0             | 0%    |\n",
        "| 1             | 25%   |\n",
        "| 2             | 45%   |\n",
        "| 3             | 60%   |\n",
        "| 4             | 70%   |\n",
        "| 5             | 75%   |\n",
        "| 6             | 78%   |\n",
        "| 7             | 80%   |\n",
        "| 8             | 80%   |\n",
        "\n",
        "\n",
        "\n",
        "                                        "
      ]
    },
    {
      "cell_type": "markdown",
      "source": [
        "#Modelo\n",
        "- ¿Como represento el espacio de soluciones?\n",
        "- ¿Cual es la función objetivo?\n",
        "- ¿Como implemento las restricciones?"
      ],
      "metadata": {
        "id": "Sbo9IqQtpaHZ"
      }
    },
    {
      "cell_type": "markdown",
      "source": [
        "1. ¿Como represento el espacio de soluciones?\n",
        "\n",
        "Se entiende por espacio de soluciones el conjunto de todas las posibles soluciones válidas para un problema dado.\n",
        "\n",
        "En este caso, para todas las posibles combinaciones de enfrentamientos entre equipos de La Liga de Fútbol, que tengan lugar en el horario indicado y siguiendo las directrices de audiencia mencionadas en el enunciado.\n",
        "\n",
        "Dentro del espacio de soluciones se encuentran las dos principales variables de decisión: el equipo con su correspondiente categoría y el horario de enfrentamiento.\n",
        "\n",
        "- Equipos: A1, A2, A3, B1, B2, B3, B4, B5, B6, B7, B8, B9, B10, B11, C1, C2, C3, C4, C5 y C6.\n",
        "- Horarios: V20, S12, S16, S18, S20, D12, D16, D18, D20 y L20.\n",
        "\n",
        "Las múltiples combinaciones que se formar al cruzar dos equipos de la lista en los diferentes horarios propuestos supone el total de soluciones.\n",
        "\n",
        "Por ejemplo:\n",
        "\n",
        "SOLUCIÓN 1: [A1 vs A2 - S20, A3 vs B1 - D20, ... ]\n",
        "\n",
        "SOLUCIÓN 2: [A1 vs A3 - S20, A2 vs B1 - D20, ... ]\n"
      ],
      "metadata": {
        "id": "67p_vszBposu"
      }
    },
    {
      "cell_type": "code",
      "metadata": {
        "id": "AiskKkzZfy4e"
      },
      "source": [
        "# A continuación se definen las variables del espacio de soluciones\n",
        "\n",
        "Equipos = ['A1', 'A2', 'A3', 'B1', 'B2', 'B3', 'B4', 'B5', 'B6', 'B7', 'B8', 'B9', 'B10', 'B11', 'C1', 'C2', 'C3', 'C4', 'C5', 'C6']\n",
        "CatA = ['A1', 'A2', 'A3']\n",
        "CatB = ['B1', 'B2', 'B3', 'B4', 'B5', 'B6', 'B7', 'B8', 'B9', 'B10', 'B11']\n",
        "CatC = ['C1', 'C2', 'C3', 'C4', 'C5', 'C6']\n",
        "Horarios = ['V20', 'S12', 'S16', 'S18', 'S20', 'D12', 'D16', 'D18', 'D20', 'L20']\n"
      ],
      "execution_count": 3,
      "outputs": []
    },
    {
      "cell_type": "markdown",
      "source": [
        "La siguiente función muestra la generaciión aleatoria de partidos, generado un ejemplo de solución en cada ejecución."
      ],
      "metadata": {
        "id": "gRgDLBtMhvmR"
      }
    },
    {
      "cell_type": "code",
      "source": [
        "import random\n",
        "\n",
        "def generar_enfrentamientos_aleatorios(equipos, horarios):\n",
        "  enfrentamientos = []\n",
        "\n",
        "  equipos_disponibles = equipos.copy()\n",
        "\n",
        "  while len(equipos_disponibles) >= 2:\n",
        "    # Seleccionar un horario aleatorio\n",
        "    horario = random.choice(horarios)\n",
        "\n",
        "    # Seleccionar dos equipos aleatorios\n",
        "    equipo1 = random.choice(equipos_disponibles)\n",
        "    equipo2 = random.choice(equipos_disponibles)\n",
        "\n",
        "    # Verificar si los equipos ya fueron seleccionados previamente\n",
        "    while equipo2 == equipo1:\n",
        "      quipo2 = random.choice(equipos_disponibles)\n",
        "\n",
        "      # Almacenar el enfrentamiento en la lista\n",
        "      enfrentamientos.append([horario, equipo1, equipo2])\n",
        "\n",
        "      # Eliminar los equipos seleccionados de la lista de equipos disponibles\n",
        "      equipos_disponibles.remove(equipo1)\n",
        "      equipos_disponibles.remove(equipo2)\n",
        "\n",
        "  return enfrentamientos\n",
        "\n",
        "solucion_enfrentamientos = generar_enfrentamientos_aleatorios(Equipos, Horarios)\n",
        "\n",
        "# Imprimir la solución\n",
        "for i in solucion_enfrentamientos:\n",
        "  print(i)"
      ],
      "metadata": {
        "colab": {
          "base_uri": "https://localhost:8080/"
        },
        "id": "KtWuBJjmenzC",
        "outputId": "9dc0de3c-13c9-40fb-849b-062013c094e8"
      },
      "execution_count": 4,
      "outputs": [
        {
          "output_type": "stream",
          "name": "stdout",
          "text": [
            "['D18', 'B3', 'B5']\n",
            "['D20', 'A1', 'B9']\n",
            "['V20', 'C4', 'B7']\n",
            "['S20', 'B1', 'C5']\n",
            "['S20', 'C6', 'B4']\n",
            "['S12', 'B11', 'C3']\n",
            "['V20', 'B10', 'A2']\n",
            "['S20', 'B6', 'C2']\n",
            "['S18', 'B2', 'C1']\n",
            "['S16', 'A3', 'B8']\n"
          ]
        }
      ]
    },
    {
      "cell_type": "markdown",
      "source": [
        "2. ¿Cual es la función objetivo?\n",
        "\n",
        "Una vez conocido el espacio de posibles soluciones, es necesario ajustarlo al objetivo del problema, es decir, maximizar la audiencia de la jornada de La Liga.\n",
        "\n",
        "Para conseguir la combinación de partidos entre equipos y horarios que obtenga la mayor audiencia posible en la jornada es necesario tener en cuenta tres factores más:\n",
        "- Estadísticas asociadas a categoría (Est_Cat): las audiencias son mayores para enfrentamientos entre equipos de mayor categoría.\n",
        "- Estadísticas asociadas al horario (Est_Hor): las audiendias son máximas, en coeficiente, sábado y domingo a las 20h.\n",
        "- Estadísticas de coincidencia (Est_Coin): las coincidencias entre dos o más partidos en una franja horaria supone una reducción de la audiencia.\n",
        "\n",
        "Por tanto, la función a maximizar puede definirse como:\n",
        "\n",
        "F = SUM(Est_Cat * Est_Hor * Est_Coin)"
      ],
      "metadata": {
        "id": "rtOJ9IVNMMQr"
      }
    },
    {
      "cell_type": "code",
      "source": [
        "def audiencia_base(local, visitante, slot):\n",
        "\n",
        "  # Se ifentifican los equipos y su audiencia por petenencia a categoría\n",
        "  if local in CatA and visitante in CatA:\n",
        "    aud_base = 2\n",
        "  elif local in CatB and visitante in CatB:\n",
        "    aud_base = 0.9\n",
        "  elif local in CatC and visitante in CatC:\n",
        "    aud_base = 0.47\n",
        "  elif (local in CatA and visitante in CatB) or (local in CatB and visitante in CatA):\n",
        "    aud_base = 1.3\n",
        "  elif (local in CatA and visitante in CatC) or (local in CatC and visitante in CatA):\n",
        "    aud_base = 1\n",
        "  elif (local in CatB and visitante in CatC) or (local in CatC and visitante in CatB):\n",
        "    aud_base = 0.75\n",
        "\n",
        "  # Se aplica la corrección por horario\n",
        "  horarios = {'S20': 1, 'D20': 1, 'V20': 0.4, 'L20': 0.4, 'S12': 0.55, 'S16': 0.7, 'S18': 0.8, 'D12': 0.45, 'D16': 0.75, 'D18': 0.85}\n",
        "  aud_base_slot = aud_base * horarios.get(slot, 0)\n",
        "\n",
        "  return aud_base_slot\n",
        "\n",
        "# Ejemplo de cálculo: partido de máxima audiencia\n",
        "aud_base_slot = audiencia_base('A1', 'A2', 'S20')\n",
        "print(aud_base_slot)"
      ],
      "metadata": {
        "colab": {
          "base_uri": "https://localhost:8080/"
        },
        "id": "na75Slh3MOIj",
        "outputId": "aa7bdc2c-ec69-4c81-f940-bef01891ad70"
      },
      "execution_count": 5,
      "outputs": [
        {
          "output_type": "stream",
          "name": "stdout",
          "text": [
            "2\n"
          ]
        }
      ]
    },
    {
      "cell_type": "markdown",
      "source": [
        "A continuación se calculan las audiencias de cada enfrantamiento antes de aplicar restricciones:"
      ],
      "metadata": {
        "id": "jQyigiTcnIXu"
      }
    },
    {
      "cell_type": "code",
      "source": [
        "aud_total = 0\n",
        "\n",
        "# Se genera una jornada aleatoria\n",
        "solucion_enfrentamientos = generar_enfrentamientos_aleatorios(Equipos, Horarios)\n",
        "\n",
        "# Se muestran las audiencias por partido sin corregir\n",
        "for i in solucion_enfrentamientos:\n",
        "  aud_base = round(audiencia_base(i[1],i[2], i[0]), 4)\n",
        "  aud_total += aud_base\n",
        "  print(f'Equipo: {i[1]} vs equipo: {i[2]} en horario: {i[0]} -> {aud_base}')\n",
        "\n",
        "print(f'Audiencia total de la jornada: {aud_total}')"
      ],
      "metadata": {
        "colab": {
          "base_uri": "https://localhost:8080/"
        },
        "id": "Ng2iqc-mnSma",
        "outputId": "fead4374-f639-4426-c270-dd085278a5a4"
      },
      "execution_count": 6,
      "outputs": [
        {
          "output_type": "stream",
          "name": "stdout",
          "text": [
            "Equipo: B2 vs equipo: C4 en horario: L20 -> 0.3\n",
            "Equipo: C3 vs equipo: B3 en horario: S16 -> 0.525\n",
            "Equipo: B1 vs equipo: B10 en horario: D16 -> 0.675\n",
            "Equipo: C1 vs equipo: B6 en horario: L20 -> 0.3\n",
            "Equipo: C6 vs equipo: B11 en horario: S18 -> 0.6\n",
            "Equipo: B9 vs equipo: B4 en horario: D20 -> 0.9\n",
            "Equipo: C5 vs equipo: B8 en horario: L20 -> 0.3\n",
            "Equipo: A2 vs equipo: A3 en horario: D12 -> 0.9\n",
            "Equipo: B7 vs equipo: A1 en horario: S12 -> 0.715\n",
            "Equipo: B5 vs equipo: C2 en horario: L20 -> 0.3\n",
            "Audiencia total de la jornada: 5.515\n"
          ]
        }
      ]
    },
    {
      "cell_type": "markdown",
      "source": [
        "3. ¿Como implemento las restricciones?\n",
        "\n",
        "Las principales restricciones a incluir, además de las audiencias base y los coeficientes comentados anteriormente, están relacionados con:\n",
        "\n",
        "3.1 La no repetición de ningún equipo dentro de una misma jornada -> Ya implementada anteriormente dada la selección única por equipo y jornada.\n",
        "\n",
        "3.2 La obligatoriedad de un partido en horario de viernes y lunes pese a tener el coeficiente más bajo -> Se crea una función que corrige la no existencia de enfrentamientos los viernes y lunes a las 20:00.\n"
      ],
      "metadata": {
        "id": "ZrYGhfWjMOhD"
      }
    },
    {
      "cell_type": "code",
      "source": [
        "import random\n",
        "\n",
        "def check_VL20(enfrentamientos):\n",
        "  # Verificar si 'V20' está presente en algún enfrentamiento\n",
        "  v20_presente = any('V20' in sublista for sublista in enfrentamientos)\n",
        "\n",
        "  # Verificar si 'L20' está presente en algún enfrentamiento\n",
        "  l20_presente = any('L20' in sublista for sublista in enfrentamientos)\n",
        "\n",
        "  # Si 'V20' no está presente, incluirlo en alguna sublista\n",
        "  if not v20_presente:\n",
        "    indice = random.randint(0, len(enfrentamientos) - 1)\n",
        "    if enfrentamientos[indice][0] != 'L20':\n",
        "      enfrentamientos[indice][0] = 'V20'\n",
        "    else:\n",
        "      enfrentamientos[indice - 1][0] = 'V20'\n",
        "\n",
        "    # Si 'L20' no está presente, incluirlo en alguna sublista\n",
        "    if not l20_presente:\n",
        "      indice = random.randint(0, len(enfrentamientos) - 1)\n",
        "      if enfrentamientos[indice][0] != 'V20':\n",
        "        enfrentamientos[indice][0] = 'L20'\n",
        "      else:\n",
        "        enfrentamientos[indice - 1][0] = 'L20'\n",
        "\n",
        "    return enfrentamientos"
      ],
      "metadata": {
        "id": "v2pjEExSx83Q"
      },
      "execution_count": 7,
      "outputs": []
    },
    {
      "cell_type": "code",
      "source": [
        "\n",
        "solucion_enfrentamientos = generar_enfrentamientos_aleatorios(Equipos, Horarios)\n",
        "print('\\nSin incluir corrección horaria:')\n",
        "# Imprimir la solución sin corrección de horarios\n",
        "for i in solucion_enfrentamientos:\n",
        "  print(i)\n",
        "\n",
        "solucion_enfrentamientos = check_VL20(solucion_enfrentamientos)\n",
        "print('\\nIncluyendo corrección horaria:')\n",
        "# Imprimir la solución con corrección de horarios\n",
        "for i in solucion_enfrentamientos:\n",
        "  print(i)"
      ],
      "metadata": {
        "colab": {
          "base_uri": "https://localhost:8080/"
        },
        "id": "Q1QYpCxktBCC",
        "outputId": "81bc95b6-a492-420f-c3ef-5440d6cd31d4"
      },
      "execution_count": 8,
      "outputs": [
        {
          "output_type": "stream",
          "name": "stdout",
          "text": [
            "\n",
            "Sin incluir corrección horaria:\n",
            "['V20', 'B1', 'B4']\n",
            "['V20', 'A1', 'A2']\n",
            "['D16', 'C5', 'B3']\n",
            "['D20', 'B10', 'B7']\n",
            "['L20', 'B6', 'C4']\n",
            "['D16', 'B5', 'C3']\n",
            "['S16', 'C1', 'B8']\n",
            "['V20', 'C6', 'B2']\n",
            "['S20', 'B9', 'A3']\n",
            "['S20', 'B11', 'C2']\n",
            "\n",
            "Incluyendo corrección horaria:\n",
            "['V20', 'B1', 'B4']\n",
            "['V20', 'A1', 'A2']\n",
            "['D16', 'C5', 'B3']\n",
            "['D20', 'B10', 'B7']\n",
            "['L20', 'B6', 'C4']\n",
            "['D16', 'B5', 'C3']\n",
            "['S16', 'C1', 'B8']\n",
            "['V20', 'C6', 'B2']\n",
            "['S20', 'B9', 'A3']\n",
            "['S20', 'B11', 'C2']\n"
          ]
        }
      ]
    },
    {
      "cell_type": "markdown",
      "source": [
        "3.3 La correcta aplicación de reducciones de audiencia en base a las coincidencias dadas.\n",
        "\n",
        "La siguiente celda muestra el generador actual de jornadas y audiencias, donde no se cuenta con las reducciones de audiencia por solapamiento horario"
      ],
      "metadata": {
        "id": "1GQS8zbHtL7d"
      }
    },
    {
      "cell_type": "code",
      "source": [
        "solucion_enfrentamientos = generar_enfrentamientos_aleatorios(Equipos, Horarios)\n",
        "solucion_enfrentamientos = check_VL20(solucion_enfrentamientos)\n",
        "#audiencias_jornada = solucion_enfrentamientos.copy()\n",
        "\n",
        "for ind, i in enumerate(solucion_enfrentamientos):\n",
        "  aud_base = round(audiencia_base(i[1],i[2], i[0]), 4)\n",
        "  #audiencias_jornada[ind].append(aud_base)\n",
        "  aud_total += aud_base\n",
        "  print(f'Equipo: {i[1]} vs equipo: {i[2]} en horario: {i[0]} -> {aud_base}')\n",
        "\n",
        "print(f'Audiencia total de la jornada: {aud_total}')"
      ],
      "metadata": {
        "colab": {
          "base_uri": "https://localhost:8080/"
        },
        "id": "HwRRbzbzZwZe",
        "outputId": "faeb01ed-9251-4341-e972-18e4b17ba5d8"
      },
      "execution_count": 9,
      "outputs": [
        {
          "output_type": "stream",
          "name": "stdout",
          "text": [
            "Equipo: B2 vs equipo: C5 en horario: S16 -> 0.525\n",
            "Equipo: A2 vs equipo: C3 en horario: L20 -> 0.4\n",
            "Equipo: B8 vs equipo: B10 en horario: S12 -> 0.495\n",
            "Equipo: B4 vs equipo: C4 en horario: D16 -> 0.5625\n",
            "Equipo: C1 vs equipo: B6 en horario: S16 -> 0.525\n",
            "Equipo: C6 vs equipo: B3 en horario: S20 -> 0.75\n",
            "Equipo: A3 vs equipo: A1 en horario: V20 -> 0.8\n",
            "Equipo: B1 vs equipo: C2 en horario: D18 -> 0.6375\n",
            "Equipo: B11 vs equipo: B5 en horario: S12 -> 0.495\n",
            "Equipo: B7 vs equipo: B9 en horario: S20 -> 0.9\n",
            "Audiencia total de la jornada: 11.605\n"
          ]
        }
      ]
    },
    {
      "cell_type": "markdown",
      "source": [
        "A continuación se aplica dicha reducción en base a los factores vistos en la descripción del problema:"
      ],
      "metadata": {
        "id": "CCqycYQc3ikn"
      }
    },
    {
      "cell_type": "code",
      "source": [
        "def aud_finales(audiencias_jornada):\n",
        "\n",
        "  # Se crea un contador para contabilizar las repeticiones en horario\n",
        "  contador = {}\n",
        "  for sublista in audiencias_jornada:\n",
        "    primera_posicion = sublista[0]\n",
        "    if primera_posicion in contador:\n",
        "      contador[primera_posicion] += 1\n",
        "    else:\n",
        "     contador[primera_posicion] = 1\n",
        "\n",
        "    # Se aplica el factor de solapamiento para cada fecha con más de un enfrentamiento\n",
        "    for clave, valor in contador.items():\n",
        "      if valor > 1:\n",
        "        indices_coincidentes = [i for i, sublista in enumerate(audiencias_jornada) if sublista[0] == clave]\n",
        "        # Multiplicar por el factor\n",
        "        for indice in indices_coincidentes:\n",
        "          if valor == 2:\n",
        "            audiencias_jornada[indice][-1] = round(audiencias_jornada[indice][-1] * 0.75,4)\n",
        "          elif valor == 3:\n",
        "            audiencias_jornada[indice][-1] = round(audiencias_jornada[indice][-1] * 0.55,4)\n",
        "          elif valor == 4:\n",
        "            audiencias_jornada[indice][-1] = round(audiencias_jornada[indice][-1] * 0.4,4)\n",
        "          elif valor == 5:\n",
        "            audiencias_jornada[indice][-1] = round(audiencias_jornada[indice][-1] * 0.3,4)\n",
        "          elif valor == 6:\n",
        "            audiencias_jornada[indice][-1] = round(audiencias_jornada[indice][-1] * 0.25,4)\n",
        "          elif valor == 7:\n",
        "            audiencias_jornada[indice][-1] = round(audiencias_jornada[indice][-1] * 0.22,4)\n",
        "          elif valor == 8:\n",
        "            audiencias_jornada[indice][-1] = round(audiencias_jornada[indice][-1] * 0.2,4)\n",
        "          elif valor == 9:\n",
        "            audiencias_jornada[indice][-1] = round(audiencias_jornada[indice][-1] * 0.2,4)\n",
        "\n",
        "  return audiencias_jornada"
      ],
      "metadata": {
        "id": "4p0Sd3qC4QYm"
      },
      "execution_count": 30,
      "outputs": []
    },
    {
      "cell_type": "code",
      "source": [
        "# Funciones comentadas anteriormente\n",
        "solucion_enfrentamientos = generar_enfrentamientos_aleatorios(Equipos, Horarios)\n",
        "solucion_enfrentamientos = check_VL20(solucion_enfrentamientos)\n",
        "audiencias_jornada = solucion_enfrentamientos.copy()\n",
        "\n",
        "total = 0\n",
        "total_corregido = 0\n",
        "\n",
        "print('\\nAudiencias sin corrección de solapamiento:')\n",
        "for ind, i in enumerate(solucion_enfrentamientos):\n",
        "  aud_base = round(audiencia_base(i[1],i[2], i[0]), 4)\n",
        "  total += aud_base\n",
        "  audiencias_jornada[ind].append(aud_base)\n",
        "  print(audiencias_jornada[ind])\n",
        "print(f'La audiencia total es: {round(total,4)}')\n",
        "\n",
        "# Se aplica la función de solapamiento\n",
        "aud_fin_corregidas = aud_finales(audiencias_jornada)\n",
        "print('\\nAudiencias con corrección de solapamiento:')\n",
        "for i in aud_fin_corregidas:\n",
        "  total_corregido += i[-1]\n",
        "  print(i)\n",
        "print(f'La audiencia total corregida es: {round(total_corregido,4)}')"
      ],
      "metadata": {
        "colab": {
          "base_uri": "https://localhost:8080/"
        },
        "id": "_PmSYqHE3uvh",
        "outputId": "c1715603-523b-4b43-fcff-0d77d3e33e3d"
      },
      "execution_count": 38,
      "outputs": [
        {
          "output_type": "stream",
          "name": "stdout",
          "text": [
            "\n",
            "Audiencias sin corrección de solapamiento:\n",
            "['V20', 'B1', 'A2', 0.52]\n",
            "['S18', 'B9', 'B6', 0.72]\n",
            "['S16', 'B3', 'A3', 0.91]\n",
            "['S16', 'C1', 'B4', 0.525]\n",
            "['D18', 'B11', 'B8', 0.765]\n",
            "['D18', 'C2', 'B5', 0.6375]\n",
            "['S20', 'C3', 'B10', 0.75]\n",
            "['L20', 'C4', 'C6', 0.188]\n",
            "['S16', 'B7', 'C5', 0.525]\n",
            "['S20', 'B2', 'A1', 1.3]\n",
            "La audiencia total es: 6.8405\n",
            "\n",
            "Audiencias con corrección de solapamiento:\n",
            "['V20', 'B1', 'A2', 0.52]\n",
            "['S18', 'B9', 'B6', 0.72]\n",
            "['S16', 'B3', 'A3', 0.0653]\n",
            "['S16', 'C1', 'B4', 0.0377]\n",
            "['D18', 'B11', 'B8', 0.1815]\n",
            "['D18', 'C2', 'B5', 0.1513]\n",
            "['S20', 'C3', 'B10', 0.5625]\n",
            "['L20', 'C4', 'C6', 0.188]\n",
            "['S16', 'B7', 'C5', 0.0377]\n",
            "['S20', 'B2', 'A1', 0.975]\n",
            "La audiencia total corregida es: 3.439\n"
          ]
        }
      ]
    },
    {
      "cell_type": "markdown",
      "source": [
        "## Código resumido"
      ],
      "metadata": {
        "id": "x_-ELKo2jPZ7"
      }
    },
    {
      "cell_type": "code",
      "source": [
        "def jornada_random_corregida(Equipos, Horarios):\n",
        "\n",
        "  # Generación aleatoria de encuentros\n",
        "  duelos_aleatorios = generar_enfrentamientos_aleatorios(Equipos, Horarios)\n",
        "\n",
        "  # Forzar la aparición de encuentros Lunes y Viernes\n",
        "  duelos_LV = check_VL20(duelos_aleatorios)\n",
        "\n",
        "  # Calcular audiencias base\n",
        "  for ind, i in enumerate(duelos_LV):\n",
        "    aud_base = round(audiencia_base(i[1],i[2], i[0]), 4)\n",
        "    duelos_LV[ind].append(aud_base)\n",
        "\n",
        "  # Calcular las audiencias tras solapamiento de partidos\n",
        "  audiencias_finales_corregidas = aud_finales(duelos_LV)\n",
        "\n",
        "  return audiencias_finales_corregidas\n",
        "\n",
        "audiencia_jornada = 0\n",
        "\n",
        "jornada_random = jornada_random_corregida(Equipos, Horarios)\n",
        "\n",
        "print('\\nAudiencias finales corregidas:')\n",
        "for i in jornada_random:\n",
        "  audiencia_jornada += i[-1]\n",
        "  print(i)\n",
        "print(f'La audiencia total corregida es: {round(audiencia_jornada,4)}')"
      ],
      "metadata": {
        "colab": {
          "base_uri": "https://localhost:8080/"
        },
        "id": "Igeu6mldjOOL",
        "outputId": "ea97517c-b468-406b-9801-0fec57cbf462"
      },
      "execution_count": 45,
      "outputs": [
        {
          "output_type": "stream",
          "name": "stdout",
          "text": [
            "\n",
            "Audiencias finales corregidas:\n",
            "['S16', 'B3', 'B4', 0.0841]\n",
            "['D16', 'C2', 'A1', 0.4219]\n",
            "['S18', 'B10', 'C4', 0.6]\n",
            "['S16', 'B7', 'B9', 0.0841]\n",
            "['D12', 'A2', 'B8', 0.4387]\n",
            "['V20', 'B1', 'C3', 0.3]\n",
            "['D20', 'B6', 'B5', 0.9]\n",
            "['L20', 'C1', 'C5', 0.188]\n",
            "['D16', 'B11', 'C6', 0.3164]\n",
            "['D12', 'A3', 'B2', 0.4387]\n",
            "La audiencia total corregida es: 3.7719\n"
          ]
        }
      ]
    },
    {
      "cell_type": "markdown",
      "source": [
        "#Análisis\n",
        "- ¿Que complejidad tiene el problema?. Orden de complejidad y Contabilizar el espacio de soluciones"
      ],
      "metadata": {
        "id": "HZz52wOppp-U"
      }
    },
    {
      "cell_type": "code",
      "source": [
        "#Respuesta\n"
      ],
      "metadata": {
        "id": "CZ-5BmpspttV"
      },
      "execution_count": 12,
      "outputs": []
    },
    {
      "cell_type": "markdown",
      "source": [
        "#Diseño\n",
        "- ¿Que técnica utilizo? ¿Por qué?"
      ],
      "metadata": {
        "id": "ixEJUwH_pv7M"
      }
    },
    {
      "cell_type": "code",
      "source": [
        "#Respuesta"
      ],
      "metadata": {
        "id": "ZdKPjB9gp2BA"
      },
      "execution_count": 13,
      "outputs": []
    }
  ]
}